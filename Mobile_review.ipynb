{
  "nbformat": 4,
  "nbformat_minor": 0,
  "metadata": {
    "colab": {
      "name": "Mobile_review.ipynb",
      "provenance": [],
      "include_colab_link": true
    },
    "kernelspec": {
      "name": "python3",
      "display_name": "Python 3"
    }
  },
  "cells": [
    {
      "cell_type": "markdown",
      "metadata": {
        "id": "view-in-github",
        "colab_type": "text"
      },
      "source": [
        "<a href=\"https://colab.research.google.com/github/ritik3000/Hackathon_codes/blob/master/Mobile_review.ipynb\" target=\"_parent\"><img src=\"https://colab.research.google.com/assets/colab-badge.svg\" alt=\"Open In Colab\"/></a>"
      ]
    },
    {
      "cell_type": "code",
      "metadata": {
        "id": "XjAdj93IksyU"
      },
      "source": [
        "import pandas as pd\n",
        "import numpy as np\n",
        "from textblob import TextBlob\n",
        "\n",
        "import nltk\n",
        "from nltk import pos_tag\n",
        "from nltk.tokenize import word_tokenize\n",
        "from nltk.corpus import stopwords\n",
        "from nltk.stem.porter import PorterStemmer\n",
        "from nltk.stem import LancasterStemmer, WordNetLemmatizer\n",
        "import re, string, unicodedata\n",
        "import inflect\n",
        "\n",
        "\n",
        "import spacy\n",
        "\n",
        "\n",
        "import nltk.data"
      ],
      "execution_count": null,
      "outputs": []
    },
    {
      "cell_type": "code",
      "metadata": {
        "id": "8ExWGEnZk6aM",
        "colab": {
          "base_uri": "https://localhost:8080/",
          "height": 34
        },
        "outputId": "84d2a8a3-4ce7-4a55-e56a-a345061da2f5"
      },
      "source": [
        "from google.colab import drive\n",
        "drive.mount('/content/drive')"
      ],
      "execution_count": null,
      "outputs": [
        {
          "output_type": "stream",
          "text": [
            "Drive already mounted at /content/drive; to attempt to forcibly remount, call drive.mount(\"/content/drive\", force_remount=True).\n"
          ],
          "name": "stdout"
        }
      ]
    },
    {
      "cell_type": "code",
      "metadata": {
        "id": "L3R8pxznlCWV"
      },
      "source": [
        "import pandas as pd\n",
        "import numpy as np"
      ],
      "execution_count": null,
      "outputs": []
    },
    {
      "cell_type": "code",
      "metadata": {
        "id": "zeLI4f1BlPDA"
      },
      "source": [
        "reviews1=pd.read_csv(\"/content/drive/My Drive/Sheet1.csv\")\n",
        "\n"
      ],
      "execution_count": null,
      "outputs": []
    },
    {
      "cell_type": "code",
      "metadata": {
        "id": "Qi9ztEA1lTTR",
        "colab": {
          "base_uri": "https://localhost:8080/",
          "height": 965
        },
        "outputId": "54a995f4-d794-43f2-de19-fc461bcc949c"
      },
      "source": [
        "reviews1"
      ],
      "execution_count": null,
      "outputs": [
        {
          "output_type": "execute_result",
          "data": {
            "text/html": [
              "<div>\n",
              "<style scoped>\n",
              "    .dataframe tbody tr th:only-of-type {\n",
              "        vertical-align: middle;\n",
              "    }\n",
              "\n",
              "    .dataframe tbody tr th {\n",
              "        vertical-align: top;\n",
              "    }\n",
              "\n",
              "    .dataframe thead th {\n",
              "        text-align: right;\n",
              "    }\n",
              "</style>\n",
              "<table border=\"1\" class=\"dataframe\">\n",
              "  <thead>\n",
              "    <tr style=\"text-align: right;\">\n",
              "      <th></th>\n",
              "      <th>Reviews</th>\n",
              "    </tr>\n",
              "  </thead>\n",
              "  <tbody>\n",
              "    <tr>\n",
              "      <th>0</th>\n",
              "      <td>Very pleased</td>\n",
              "    </tr>\n",
              "    <tr>\n",
              "      <th>1</th>\n",
              "      <td>It works good but it goes slow sometimes but i...</td>\n",
              "    </tr>\n",
              "    <tr>\n",
              "      <th>2</th>\n",
              "      <td>Great phone to replace my lost phone. The only...</td>\n",
              "    </tr>\n",
              "    <tr>\n",
              "      <th>3</th>\n",
              "      <td>It's battery life is great. It's very responsi...</td>\n",
              "    </tr>\n",
              "    <tr>\n",
              "      <th>4</th>\n",
              "      <td>I love the phone. It does everything I need an...</td>\n",
              "    </tr>\n",
              "    <tr>\n",
              "      <th>5</th>\n",
              "      <td>pros-beautiful screen,capable of running chrom...</td>\n",
              "    </tr>\n",
              "    <tr>\n",
              "      <th>6</th>\n",
              "      <td>Phone's speaker little low. Overall very happy...</td>\n",
              "    </tr>\n",
              "    <tr>\n",
              "      <th>7</th>\n",
              "      <td>the reasons for the 3 star rating was it was i...</td>\n",
              "    </tr>\n",
              "    <tr>\n",
              "      <th>8</th>\n",
              "      <td>Just... not good. The phone has great screen r...</td>\n",
              "    </tr>\n",
              "    <tr>\n",
              "      <th>9</th>\n",
              "      <td>Perfect in every way.</td>\n",
              "    </tr>\n",
              "    <tr>\n",
              "      <th>10</th>\n",
              "      <td>One of the phones have a bad charger port. I w...</td>\n",
              "    </tr>\n",
              "    <tr>\n",
              "      <th>11</th>\n",
              "      <td>Just got this phone and it is a great phone. I...</td>\n",
              "    </tr>\n",
              "    <tr>\n",
              "      <th>12</th>\n",
              "      <td>Bought this as an alternative to a smart phone...</td>\n",
              "    </tr>\n",
              "    <tr>\n",
              "      <th>13</th>\n",
              "      <td>I have no problem taking the phone to straight...</td>\n",
              "    </tr>\n",
              "    <tr>\n",
              "      <th>14</th>\n",
              "      <td>Delivery was fast. The overall quality of the ...</td>\n",
              "    </tr>\n",
              "    <tr>\n",
              "      <th>15</th>\n",
              "      <td>Perfect</td>\n",
              "    </tr>\n",
              "    <tr>\n",
              "      <th>16</th>\n",
              "      <td>Lots of nice features but touch response slow....</td>\n",
              "    </tr>\n",
              "    <tr>\n",
              "      <th>17</th>\n",
              "      <td>I received the phone on time, packaged well ca...</td>\n",
              "    </tr>\n",
              "    <tr>\n",
              "      <th>18</th>\n",
              "      <td>A1 Excellent, very good buy, satisfied with al...</td>\n",
              "    </tr>\n",
              "    <tr>\n",
              "      <th>19</th>\n",
              "      <td>Looks Very basic phone and more expensive.Gett...</td>\n",
              "    </tr>\n",
              "    <tr>\n",
              "      <th>20</th>\n",
              "      <td>It's heavy screen makes texting a pain - almos...</td>\n",
              "    </tr>\n",
              "    <tr>\n",
              "      <th>21</th>\n",
              "      <td>Well my husband didn't like it cause it's to s...</td>\n",
              "    </tr>\n",
              "    <tr>\n",
              "      <th>22</th>\n",
              "      <td>Very...happy with the phone... completely sati...</td>\n",
              "    </tr>\n",
              "    <tr>\n",
              "      <th>23</th>\n",
              "      <td>I am very disappointed with this phone, Others...</td>\n",
              "    </tr>\n",
              "    <tr>\n",
              "      <th>24</th>\n",
              "      <td>The phone itself it very nice, clean and new. ...</td>\n",
              "    </tr>\n",
              "    <tr>\n",
              "      <th>25</th>\n",
              "      <td>This is a beautiful telephone.</td>\n",
              "    </tr>\n",
              "    <tr>\n",
              "      <th>26</th>\n",
              "      <td>Comparable to Samsung Galaxy Mega series. Nice...</td>\n",
              "    </tr>\n",
              "    <tr>\n",
              "      <th>27</th>\n",
              "      <td>Great phone for the money. Love the UI. Super ...</td>\n",
              "    </tr>\n",
              "    <tr>\n",
              "      <th>28</th>\n",
              "      <td>My wife adores her robin and gets compliments ...</td>\n",
              "    </tr>\n",
              "    <tr>\n",
              "      <th>29</th>\n",
              "      <td>A fantastic phone all around, especially at th...</td>\n",
              "    </tr>\n",
              "    <tr>\n",
              "      <th>30</th>\n",
              "      <td>So far so good.Great Look. You'll definitely s...</td>\n",
              "    </tr>\n",
              "  </tbody>\n",
              "</table>\n",
              "</div>"
            ],
            "text/plain": [
              "                                              Reviews\n",
              "0                                        Very pleased\n",
              "1   It works good but it goes slow sometimes but i...\n",
              "2   Great phone to replace my lost phone. The only...\n",
              "3   It's battery life is great. It's very responsi...\n",
              "4   I love the phone. It does everything I need an...\n",
              "5   pros-beautiful screen,capable of running chrom...\n",
              "6   Phone's speaker little low. Overall very happy...\n",
              "7   the reasons for the 3 star rating was it was i...\n",
              "8   Just... not good. The phone has great screen r...\n",
              "9                               Perfect in every way.\n",
              "10  One of the phones have a bad charger port. I w...\n",
              "11  Just got this phone and it is a great phone. I...\n",
              "12  Bought this as an alternative to a smart phone...\n",
              "13  I have no problem taking the phone to straight...\n",
              "14  Delivery was fast. The overall quality of the ...\n",
              "15                                            Perfect\n",
              "16  Lots of nice features but touch response slow....\n",
              "17  I received the phone on time, packaged well ca...\n",
              "18  A1 Excellent, very good buy, satisfied with al...\n",
              "19  Looks Very basic phone and more expensive.Gett...\n",
              "20  It's heavy screen makes texting a pain - almos...\n",
              "21  Well my husband didn't like it cause it's to s...\n",
              "22  Very...happy with the phone... completely sati...\n",
              "23  I am very disappointed with this phone, Others...\n",
              "24  The phone itself it very nice, clean and new. ...\n",
              "25                     This is a beautiful telephone.\n",
              "26  Comparable to Samsung Galaxy Mega series. Nice...\n",
              "27  Great phone for the money. Love the UI. Super ...\n",
              "28  My wife adores her robin and gets compliments ...\n",
              "29  A fantastic phone all around, especially at th...\n",
              "30  So far so good.Great Look. You'll definitely s..."
            ]
          },
          "metadata": {
            "tags": []
          },
          "execution_count": 191
        }
      ]
    },
    {
      "cell_type": "code",
      "metadata": {
        "id": "92S7mAkl3Rnj"
      },
      "source": [
        "i=0\n",
        "number=[i for i in range (0,31)]\n",
        "### I have considered every review of different products.\n",
        "\n",
        "  \n",
        " "
      ],
      "execution_count": null,
      "outputs": []
    },
    {
      "cell_type": "code",
      "metadata": {
        "id": "aqvLoqo44caH"
      },
      "source": [
        "reviews1['mobile_model']=number"
      ],
      "execution_count": null,
      "outputs": []
    },
    {
      "cell_type": "code",
      "metadata": {
        "id": "NyRf5zWT3-I_"
      },
      "source": [
        "def to_lowercase(words):\n",
        "    new_words = []\n",
        "    for word in words:\n",
        "        new_word = word.lower()\n",
        "        new_words.append(new_word)\n",
        "    return new_words\n",
        "\n",
        "def replace_numbers(words):\n",
        "    p = inflect.engine()\n",
        "    new_words = []\n",
        "    for word in words:\n",
        "        if word.isdigit():\n",
        "            new_word = p.number_to_words(word)\n",
        "            new_words.append(new_word)\n",
        "        else:\n",
        "            new_words.append(word)\n",
        "    return new_words    \n",
        "\n",
        "def remove_punctuation(words):\n",
        "    new_words = []\n",
        "    for word in words:\n",
        "        new_word = re.sub(r'[^\\w\\s]', '', word)\n",
        "        if new_word != '':\n",
        "            new_words.append(new_word)\n",
        "    return new_words\n",
        "\n",
        "\n",
        "\n",
        "def remove_stopwords(words):\n",
        "    new_words = []\n",
        "    for word in words:\n",
        "        if word not in stopwords.words('english'):\n",
        "            new_words.append(word)\n",
        "    return new_words\n",
        "\n",
        "def stem_words(words):\n",
        "    stemmer = LancasterStemmer()\n",
        "    stems = []\n",
        "    for word in words:\n",
        "        stem = stemmer.stem(word)\n",
        "        stems.append(stem)\n",
        "    return stems\n",
        "\n",
        "def lemmatize_verbs(words):\n",
        "    lemmatizer = WordNetLemmatizer()\n",
        "    lemmas = []\n",
        "    for word in words:\n",
        "        lemma = lemmatizer.lemmatize(word, pos='v')\n",
        "        lemmas.append(lemma)\n",
        "    return lemmas\n",
        "\n",
        "def normalize(words):\n",
        "    words = to_lowercase(words)\n",
        "    words = remove_punctuation(words)\n",
        "    words = replace_numbers(words)\n",
        "    words = remove_stopwords(words)\n",
        "    return words\n",
        "\n",
        "def stem_and_lemmatize(words):\n",
        "    stems = stem_words(words)\n",
        "    lemmas = lemmatize_verbs(words)\n",
        "    return stems, lemmas\n",
        "\n",
        "\n",
        "def clean_text(text):\n",
        "    wording = nltk.word_tokenize(text)\n",
        "    words = normalize(wording)\n",
        "    string_text = ' '.join(words)\n",
        "    return string_text\n",
        "\n",
        "def sentances(text):\n",
        "    sent_detector = nltk.data.load('tokenizers/punkt/english.pickle')\n",
        "    return sent_detector.tokenize(text.strip())\n",
        "\n",
        "def get_text_sentiment(text):\n",
        "    analysis = TextBlob(clean_text(text))  \n",
        "    if analysis.sentiment.polarity > 0: \n",
        "        return 'positive'\n",
        "    elif analysis.sentiment.polarity == 0: \n",
        "        return 'neutral'\n",
        "    else: \n",
        "        return 'negative'    \n",
        "        \n",
        "def textBlob_feature_extraction(text): \n",
        "        blob = TextBlob(text)\n",
        "        return blob.noun_phrases"
      ],
      "execution_count": null,
      "outputs": []
    },
    {
      "cell_type": "code",
      "metadata": {
        "id": "Vn3KWiK5lhhT"
      },
      "source": [
        ""
      ],
      "execution_count": null,
      "outputs": []
    },
    {
      "cell_type": "code",
      "metadata": {
        "id": "zQVY9ueSlqen"
      },
      "source": [
        "sentences = []\n",
        "sentiment_sent =[]\n",
        "mobile_model =[]\n",
        "for products,reviews in zip(reviews1[\"mobile_model\"], reviews1[\"Reviews\"]): \n",
        "    for sent in sentances(reviews):\n",
        "        sentiment_sent.append(get_text_sentiment(sent))\n",
        "        sentences.append(sent)\n",
        "        mobile_model.append(products)\n",
        "\n",
        "all= pd.DataFrame()\n",
        "all[\"products\"] = mobile_model\n",
        "all[\"reviews_sentences\"] =  sentences\n",
        "all[\"sentiment\"] = sentiment_sent\n",
        "\n",
        "\n",
        "cleaned_reviews =[]\n",
        "for reviews in all[\"reviews_sentences\"]:\n",
        "    cleaned_reviews.append(clean_text(reviews))\n",
        "    \n",
        "all.insert(2, 'cleaned_reviews_sentences ', cleaned_reviews)\n",
        "\n",
        "\n",
        "features = []\n",
        "for reviews in cleaned_reviews:\n",
        "    features.append(textBlob_feature_extraction(reviews))\n",
        "\n",
        "all['texblob_features_extraction']=features"
      ],
      "execution_count": null,
      "outputs": []
    },
    {
      "cell_type": "markdown",
      "metadata": {
        "id": "g_z97-HnTV5R"
      },
      "source": [
        "ALL Feature dataset with sentiment"
      ]
    },
    {
      "cell_type": "code",
      "metadata": {
        "id": "LBxA0rDa6PwM",
        "colab": {
          "base_uri": "https://localhost:8080/",
          "height": 67
        },
        "outputId": "7f45f629-8fa4-43e5-dbc9-445fb289c531"
      },
      "source": [
        "nltk.download('brown')"
      ],
      "execution_count": null,
      "outputs": [
        {
          "output_type": "stream",
          "text": [
            "[nltk_data] Downloading package brown to /root/nltk_data...\n",
            "[nltk_data]   Package brown is already up-to-date!\n"
          ],
          "name": "stdout"
        },
        {
          "output_type": "execute_result",
          "data": {
            "text/plain": [
              "True"
            ]
          },
          "metadata": {
            "tags": []
          },
          "execution_count": 196
        }
      ]
    },
    {
      "cell_type": "code",
      "metadata": {
        "id": "uB3GSBqAmHEa",
        "colab": {
          "base_uri": "https://localhost:8080/",
          "height": 67
        },
        "outputId": "fdbbfb22-799c-4f3a-f0a1-5a9b0462a335"
      },
      "source": [
        "nltk.download('punkt')"
      ],
      "execution_count": null,
      "outputs": [
        {
          "output_type": "stream",
          "text": [
            "[nltk_data] Downloading package punkt to /root/nltk_data...\n",
            "[nltk_data]   Package punkt is already up-to-date!\n"
          ],
          "name": "stdout"
        },
        {
          "output_type": "execute_result",
          "data": {
            "text/plain": [
              "True"
            ]
          },
          "metadata": {
            "tags": []
          },
          "execution_count": 197
        }
      ]
    },
    {
      "cell_type": "code",
      "metadata": {
        "id": "n-DW_WfXmQxq",
        "colab": {
          "base_uri": "https://localhost:8080/",
          "height": 67
        },
        "outputId": "7fad58dc-6751-48f5-84d7-fbe08f38347c"
      },
      "source": [
        "nltk.download('stopwords')\n",
        "  "
      ],
      "execution_count": null,
      "outputs": [
        {
          "output_type": "stream",
          "text": [
            "[nltk_data] Downloading package stopwords to /root/nltk_data...\n",
            "[nltk_data]   Package stopwords is already up-to-date!\n"
          ],
          "name": "stdout"
        },
        {
          "output_type": "execute_result",
          "data": {
            "text/plain": [
              "True"
            ]
          },
          "metadata": {
            "tags": []
          },
          "execution_count": 198
        }
      ]
    },
    {
      "cell_type": "code",
      "metadata": {
        "id": "5dqhCdb_mUXo",
        "colab": {
          "base_uri": "https://localhost:8080/",
          "height": 402
        },
        "outputId": "8983adb6-6377-481e-b43d-fc700e382793"
      },
      "source": [
        "all"
      ],
      "execution_count": null,
      "outputs": [
        {
          "output_type": "execute_result",
          "data": {
            "text/html": [
              "<div>\n",
              "<style scoped>\n",
              "    .dataframe tbody tr th:only-of-type {\n",
              "        vertical-align: middle;\n",
              "    }\n",
              "\n",
              "    .dataframe tbody tr th {\n",
              "        vertical-align: top;\n",
              "    }\n",
              "\n",
              "    .dataframe thead th {\n",
              "        text-align: right;\n",
              "    }\n",
              "</style>\n",
              "<table border=\"1\" class=\"dataframe\">\n",
              "  <thead>\n",
              "    <tr style=\"text-align: right;\">\n",
              "      <th></th>\n",
              "      <th>products</th>\n",
              "      <th>reviews_sentences</th>\n",
              "      <th>cleaned_reviews_sentences</th>\n",
              "      <th>sentiment</th>\n",
              "      <th>texblob_features_extraction</th>\n",
              "    </tr>\n",
              "  </thead>\n",
              "  <tbody>\n",
              "    <tr>\n",
              "      <th>0</th>\n",
              "      <td>0</td>\n",
              "      <td>Very pleased</td>\n",
              "      <td>pleased</td>\n",
              "      <td>positive</td>\n",
              "      <td>[]</td>\n",
              "    </tr>\n",
              "    <tr>\n",
              "      <th>1</th>\n",
              "      <td>1</td>\n",
              "      <td>It works good but it goes slow sometimes but i...</td>\n",
              "      <td>works good goes slow sometimes good phone love</td>\n",
              "      <td>positive</td>\n",
              "      <td>[good phone]</td>\n",
              "    </tr>\n",
              "    <tr>\n",
              "      <th>2</th>\n",
              "      <td>2</td>\n",
              "      <td>Great phone to replace my lost phone.</td>\n",
              "      <td>great phone replace lost phone</td>\n",
              "      <td>positive</td>\n",
              "      <td>[great phone]</td>\n",
              "    </tr>\n",
              "    <tr>\n",
              "      <th>3</th>\n",
              "      <td>2</td>\n",
              "      <td>The only thing is the volume up button does no...</td>\n",
              "      <td>thing volume button work still go settings adjust</td>\n",
              "      <td>neutral</td>\n",
              "      <td>[thing volume button work]</td>\n",
              "    </tr>\n",
              "    <tr>\n",
              "      <th>4</th>\n",
              "      <td>2</td>\n",
              "      <td>Other than that, it does the job until I am el...</td>\n",
              "      <td>job eligible upgrade phone againthaanks</td>\n",
              "      <td>neutral</td>\n",
              "      <td>[eligible upgrade phone againthaanks]</td>\n",
              "    </tr>\n",
              "    <tr>\n",
              "      <th>...</th>\n",
              "      <td>...</td>\n",
              "      <td>...</td>\n",
              "      <td>...</td>\n",
              "      <td>...</td>\n",
              "      <td>...</td>\n",
              "    </tr>\n",
              "    <tr>\n",
              "      <th>117</th>\n",
              "      <td>30</td>\n",
              "      <td>you cannot get a FULL HD 5.2\" screen with fron...</td>\n",
              "      <td>get full hd fifty-two screen front facing dual...</td>\n",
              "      <td>positive</td>\n",
              "      <td>[full hd fifty-two screen front, dual stereo s...</td>\n",
              "    </tr>\n",
              "    <tr>\n",
              "      <th>118</th>\n",
              "      <td>30</td>\n",
              "      <td>You need to get into Manual mode every time wh...</td>\n",
              "      <td>need get manual mode every time open camera ap...</td>\n",
              "      <td>positive</td>\n",
              "      <td>[manual mode, open camera app, good pictures]</td>\n",
              "    </tr>\n",
              "    <tr>\n",
              "      <th>119</th>\n",
              "      <td>30</td>\n",
              "      <td>Lens Focuses really good but colors get fade a...</td>\n",
              "      <td>lens focuses really good colors get fade away ...</td>\n",
              "      <td>positive</td>\n",
              "      <td>[lens focuses, good colors, check quality imag...</td>\n",
              "    </tr>\n",
              "    <tr>\n",
              "      <th>120</th>\n",
              "      <td>30</td>\n",
              "      <td>Every time you take a picture you need to wait...</td>\n",
              "      <td>every time take picture need wait two secs get...</td>\n",
              "      <td>neutral</td>\n",
              "      <td>[picture need]</td>\n",
              "    </tr>\n",
              "    <tr>\n",
              "      <th>121</th>\n",
              "      <td>30</td>\n",
              "      <td>If you do not wait then you'll see blurred or ...</td>\n",
              "      <td>wait see blurred shaky unstable images</td>\n",
              "      <td>negative</td>\n",
              "      <td>[shaky unstable images]</td>\n",
              "    </tr>\n",
              "  </tbody>\n",
              "</table>\n",
              "<p>122 rows × 5 columns</p>\n",
              "</div>"
            ],
            "text/plain": [
              "     products  ...                        texblob_features_extraction\n",
              "0           0  ...                                                 []\n",
              "1           1  ...                                       [good phone]\n",
              "2           2  ...                                      [great phone]\n",
              "3           2  ...                         [thing volume button work]\n",
              "4           2  ...              [eligible upgrade phone againthaanks]\n",
              "..        ...  ...                                                ...\n",
              "117        30  ...  [full hd fifty-two screen front, dual stereo s...\n",
              "118        30  ...      [manual mode, open camera app, good pictures]\n",
              "119        30  ...  [lens focuses, good colors, check quality imag...\n",
              "120        30  ...                                     [picture need]\n",
              "121        30  ...                            [shaky unstable images]\n",
              "\n",
              "[122 rows x 5 columns]"
            ]
          },
          "metadata": {
            "tags": []
          },
          "execution_count": 199
        }
      ]
    },
    {
      "cell_type": "code",
      "metadata": {
        "id": "StO1rbafntSw"
      },
      "source": [
        ""
      ],
      "execution_count": null,
      "outputs": []
    },
    {
      "cell_type": "code",
      "metadata": {
        "id": "XC-b5w09nvNN"
      },
      "source": [
        ""
      ],
      "execution_count": null,
      "outputs": []
    },
    {
      "cell_type": "markdown",
      "metadata": {
        "id": "UTlhCt2mn3re"
      },
      "source": [
        "positve negative sentiments with feature counts"
      ]
    },
    {
      "cell_type": "code",
      "metadata": {
        "id": "S_ucqbw_3lxP",
        "colab": {
          "base_uri": "https://localhost:8080/",
          "height": 876
        },
        "outputId": "d0f6303b-890b-4f85-865b-06f32e181f4d"
      },
      "source": [
        "prod_features_counts = {}\n",
        "for prod,feature_list, in zip(all['products'],all['texblob_features_extraction']):\n",
        "    for feature in feature_list:\n",
        "        if prod in prod_features_counts:\n",
        "            if feature in prod_features_counts[prod]:\n",
        "                prod_features_counts[prod][feature] += 1\n",
        "            else:\n",
        "                prod_features_counts[prod][feature] = 1 \n",
        "        else:\n",
        "            prod_features_counts[prod]={}\n",
        "            prod_features_counts[prod][feature] = 1\n",
        "dist_products =[]\n",
        "dist_feature_count= []\n",
        "for key, value in prod_features_counts.items() :\n",
        "    dist_products.append(key)\n",
        "    dist_feature_count.append(value)\n",
        "\n",
        "pfd = pd.DataFrame()\n",
        "pfd['products'] = dist_products\n",
        "pfd['feature with count'] = dist_feature_count\n",
        "pfd\n"
      ],
      "execution_count": null,
      "outputs": [
        {
          "output_type": "execute_result",
          "data": {
            "text/html": [
              "<div>\n",
              "<style scoped>\n",
              "    .dataframe tbody tr th:only-of-type {\n",
              "        vertical-align: middle;\n",
              "    }\n",
              "\n",
              "    .dataframe tbody tr th {\n",
              "        vertical-align: top;\n",
              "    }\n",
              "\n",
              "    .dataframe thead th {\n",
              "        text-align: right;\n",
              "    }\n",
              "</style>\n",
              "<table border=\"1\" class=\"dataframe\">\n",
              "  <thead>\n",
              "    <tr style=\"text-align: right;\">\n",
              "      <th></th>\n",
              "      <th>products</th>\n",
              "      <th>feature with count</th>\n",
              "    </tr>\n",
              "  </thead>\n",
              "  <tbody>\n",
              "    <tr>\n",
              "      <th>0</th>\n",
              "      <td>1</td>\n",
              "      <td>{'good phone': 1}</td>\n",
              "    </tr>\n",
              "    <tr>\n",
              "      <th>1</th>\n",
              "      <td>2</td>\n",
              "      <td>{'great phone': 1, 'thing volume button work':...</td>\n",
              "    </tr>\n",
              "    <tr>\n",
              "      <th>2</th>\n",
              "      <td>3</td>\n",
              "      <td>{'battery life': 1, 'responsive touch': 1, 'bl...</td>\n",
              "    </tr>\n",
              "    <tr>\n",
              "      <th>3</th>\n",
              "      <td>4</td>\n",
              "      <td>{'phones seller': 1, 'amazon warehouse': 1, 'p...</td>\n",
              "    </tr>\n",
              "    <tr>\n",
              "      <th>4</th>\n",
              "      <td>5</td>\n",
              "      <td>{'prosbeautiful screen': 1, 'good pictures key...</td>\n",
              "    </tr>\n",
              "    <tr>\n",
              "      <th>5</th>\n",
              "      <td>6</td>\n",
              "      <td>{'phone speaker': 1, 'happy phone': 1, 'cell p...</td>\n",
              "    </tr>\n",
              "    <tr>\n",
              "      <th>6</th>\n",
              "      <td>7</td>\n",
              "      <td>{'iphone 4s tends': 1, 'power good storage spa...</td>\n",
              "    </tr>\n",
              "    <tr>\n",
              "      <th>7</th>\n",
              "      <td>8</td>\n",
              "      <td>{'great screen resolution storage': 1, 'low ne...</td>\n",
              "    </tr>\n",
              "    <tr>\n",
              "      <th>8</th>\n",
              "      <td>10</td>\n",
              "      <td>{'bad charger port': 1}</td>\n",
              "    </tr>\n",
              "    <tr>\n",
              "      <th>9</th>\n",
              "      <td>11</td>\n",
              "      <td>{'great phone': 1, 'easy use': 1}</td>\n",
              "    </tr>\n",
              "    <tr>\n",
              "      <th>10</th>\n",
              "      <td>12</td>\n",
              "      <td>{'alternative smart phone data plan': 1, 'goph...</td>\n",
              "    </tr>\n",
              "    <tr>\n",
              "      <th>11</th>\n",
              "      <td>13</td>\n",
              "      <td>{'talkthe phone': 1, 'thing nt': 1, 'camera ho...</td>\n",
              "    </tr>\n",
              "    <tr>\n",
              "      <th>12</th>\n",
              "      <td>14</td>\n",
              "      <td>{'overall quality phone': 1, 'good quality cam...</td>\n",
              "    </tr>\n",
              "    <tr>\n",
              "      <th>13</th>\n",
              "      <td>16</td>\n",
              "      <td>{'nice features touch response': 1, 'sound vol...</td>\n",
              "    </tr>\n",
              "    <tr>\n",
              "      <th>14</th>\n",
              "      <td>17</td>\n",
              "      <td>{'phone time': 1, 'charger headphones': 1, 'to...</td>\n",
              "    </tr>\n",
              "    <tr>\n",
              "      <th>15</th>\n",
              "      <td>18</td>\n",
              "      <td>{'good materials a1': 1}</td>\n",
              "    </tr>\n",
              "    <tr>\n",
              "      <th>16</th>\n",
              "      <td>19</td>\n",
              "      <td>{'basic phone': 1, 'phones price marketnot': 1...</td>\n",
              "    </tr>\n",
              "    <tr>\n",
              "      <th>17</th>\n",
              "      <td>20</td>\n",
              "      <td>{'heavy screen': 1, 'reception lousy': 1}</td>\n",
              "    </tr>\n",
              "    <tr>\n",
              "      <th>18</th>\n",
              "      <td>21</td>\n",
              "      <td>{'husband nt': 1, 'slow 3g': 1}</td>\n",
              "    </tr>\n",
              "    <tr>\n",
              "      <th>19</th>\n",
              "      <td>22</td>\n",
              "      <td>{'happy phone': 1}</td>\n",
              "    </tr>\n",
              "    <tr>\n",
              "      <th>20</th>\n",
              "      <td>23</td>\n",
              "      <td>{'phone others': 1}</td>\n",
              "    </tr>\n",
              "    <tr>\n",
              "      <th>21</th>\n",
              "      <td>24</td>\n",
              "      <td>{'factory firmware': 1, 'normal use': 1, 'fact...</td>\n",
              "    </tr>\n",
              "    <tr>\n",
              "      <th>22</th>\n",
              "      <td>25</td>\n",
              "      <td>{'beautiful telephone': 1}</td>\n",
              "    </tr>\n",
              "    <tr>\n",
              "      <th>23</th>\n",
              "      <td>26</td>\n",
              "      <td>{'comparable samsung galaxy mega series': 1, '...</td>\n",
              "    </tr>\n",
              "    <tr>\n",
              "      <th>24</th>\n",
              "      <td>27</td>\n",
              "      <td>{'great phone money': 1}</td>\n",
              "    </tr>\n",
              "    <tr>\n",
              "      <th>25</th>\n",
              "      <td>28</td>\n",
              "      <td>{'wife adores robin': 1, 'compliments time': 1...</td>\n",
              "    </tr>\n",
              "    <tr>\n",
              "      <th>26</th>\n",
              "      <td>29</td>\n",
              "      <td>{'fantastic phone': 1, 'current price': 1, 'si...</td>\n",
              "    </tr>\n",
              "    <tr>\n",
              "      <th>27</th>\n",
              "      <td>30</td>\n",
              "      <td>{'goodgreat look': 1, 'regular designs': 1, 'a...</td>\n",
              "    </tr>\n",
              "  </tbody>\n",
              "</table>\n",
              "</div>"
            ],
            "text/plain": [
              "    products                                 feature with count\n",
              "0          1                                  {'good phone': 1}\n",
              "1          2  {'great phone': 1, 'thing volume button work':...\n",
              "2          3  {'battery life': 1, 'responsive touch': 1, 'bl...\n",
              "3          4  {'phones seller': 1, 'amazon warehouse': 1, 'p...\n",
              "4          5  {'prosbeautiful screen': 1, 'good pictures key...\n",
              "5          6  {'phone speaker': 1, 'happy phone': 1, 'cell p...\n",
              "6          7  {'iphone 4s tends': 1, 'power good storage spa...\n",
              "7          8  {'great screen resolution storage': 1, 'low ne...\n",
              "8         10                            {'bad charger port': 1}\n",
              "9         11                  {'great phone': 1, 'easy use': 1}\n",
              "10        12  {'alternative smart phone data plan': 1, 'goph...\n",
              "11        13  {'talkthe phone': 1, 'thing nt': 1, 'camera ho...\n",
              "12        14  {'overall quality phone': 1, 'good quality cam...\n",
              "13        16  {'nice features touch response': 1, 'sound vol...\n",
              "14        17  {'phone time': 1, 'charger headphones': 1, 'to...\n",
              "15        18                           {'good materials a1': 1}\n",
              "16        19  {'basic phone': 1, 'phones price marketnot': 1...\n",
              "17        20          {'heavy screen': 1, 'reception lousy': 1}\n",
              "18        21                    {'husband nt': 1, 'slow 3g': 1}\n",
              "19        22                                 {'happy phone': 1}\n",
              "20        23                                {'phone others': 1}\n",
              "21        24  {'factory firmware': 1, 'normal use': 1, 'fact...\n",
              "22        25                         {'beautiful telephone': 1}\n",
              "23        26  {'comparable samsung galaxy mega series': 1, '...\n",
              "24        27                           {'great phone money': 1}\n",
              "25        28  {'wife adores robin': 1, 'compliments time': 1...\n",
              "26        29  {'fantastic phone': 1, 'current price': 1, 'si...\n",
              "27        30  {'goodgreat look': 1, 'regular designs': 1, 'a..."
            ]
          },
          "metadata": {
            "tags": []
          },
          "execution_count": 200
        }
      ]
    },
    {
      "cell_type": "markdown",
      "metadata": {
        "id": "PmBw0QDKTcTu"
      },
      "source": [
        ""
      ]
    },
    {
      "cell_type": "code",
      "metadata": {
        "id": "LIui_0KV5xGN",
        "colab": {
          "base_uri": "https://localhost:8080/",
          "height": 728
        },
        "outputId": "0d02b3fa-3b5a-4ca1-d153-3a5076526f42"
      },
      "source": [
        "positive_products_dataset = all_products_dataset.loc[(all_products_dataset['sentiment'] == 'positive')]\n",
        "\n",
        "positive_features_counts = {}\n",
        "for prod,feature_list, in zip(positive_products_dataset['products'],positive_products_dataset['texblob_features_extraction']):\n",
        "    for feature in feature_list:\n",
        "        if prod in positive_features_counts:\n",
        "            if feature in positive_features_counts[prod]:\n",
        "                positive_features_counts[prod][feature] += 1\n",
        "            else:\n",
        "                positive_features_counts[prod][feature] = 1 \n",
        "        else:\n",
        "            positive_features_counts[prod]={}\n",
        "            positive_features_counts[prod][feature] = 1\n",
        "\n",
        "dist_products =[]\n",
        "dist_feature_count= []\n",
        "for key, value in positive_features_counts.items() :\n",
        "    dist_products.append(key)\n",
        "    dist_feature_count.append(value)\n",
        "\n",
        "ppfd = pd.DataFrame()\n",
        "ppfd['products'] = dist_products\n",
        "ppfd['feature with count'] = dist_feature_count\n",
        "ppfd"
      ],
      "execution_count": null,
      "outputs": [
        {
          "output_type": "execute_result",
          "data": {
            "text/html": [
              "<div>\n",
              "<style scoped>\n",
              "    .dataframe tbody tr th:only-of-type {\n",
              "        vertical-align: middle;\n",
              "    }\n",
              "\n",
              "    .dataframe tbody tr th {\n",
              "        vertical-align: top;\n",
              "    }\n",
              "\n",
              "    .dataframe thead th {\n",
              "        text-align: right;\n",
              "    }\n",
              "</style>\n",
              "<table border=\"1\" class=\"dataframe\">\n",
              "  <thead>\n",
              "    <tr style=\"text-align: right;\">\n",
              "      <th></th>\n",
              "      <th>products</th>\n",
              "      <th>feature with count</th>\n",
              "    </tr>\n",
              "  </thead>\n",
              "  <tbody>\n",
              "    <tr>\n",
              "      <th>0</th>\n",
              "      <td>1</td>\n",
              "      <td>{'good phone': 1}</td>\n",
              "    </tr>\n",
              "    <tr>\n",
              "      <th>1</th>\n",
              "      <td>2</td>\n",
              "      <td>{'great phone': 1}</td>\n",
              "    </tr>\n",
              "    <tr>\n",
              "      <th>2</th>\n",
              "      <td>3</td>\n",
              "      <td>{'battery life': 1, 'black press top button': ...</td>\n",
              "    </tr>\n",
              "    <tr>\n",
              "      <th>3</th>\n",
              "      <td>5</td>\n",
              "      <td>{'prosbeautiful screen': 1, 'good pictures key...</td>\n",
              "    </tr>\n",
              "    <tr>\n",
              "      <th>4</th>\n",
              "      <td>6</td>\n",
              "      <td>{'happy phone': 1}</td>\n",
              "    </tr>\n",
              "    <tr>\n",
              "      <th>5</th>\n",
              "      <td>7</td>\n",
              "      <td>{'iphone 4s tends': 1, 'power good storage spa...</td>\n",
              "    </tr>\n",
              "    <tr>\n",
              "      <th>6</th>\n",
              "      <td>8</td>\n",
              "      <td>{'great screen resolution storage': 1, 'low ne...</td>\n",
              "    </tr>\n",
              "    <tr>\n",
              "      <th>7</th>\n",
              "      <td>11</td>\n",
              "      <td>{'great phone': 1, 'easy use': 1}</td>\n",
              "    </tr>\n",
              "    <tr>\n",
              "      <th>8</th>\n",
              "      <td>12</td>\n",
              "      <td>{'alternative smart phone data plan': 1, 'phon...</td>\n",
              "    </tr>\n",
              "    <tr>\n",
              "      <th>9</th>\n",
              "      <td>13</td>\n",
              "      <td>{'talkthe phone': 1}</td>\n",
              "    </tr>\n",
              "    <tr>\n",
              "      <th>10</th>\n",
              "      <td>14</td>\n",
              "      <td>{'overall quality phone': 1, 'good quality cam...</td>\n",
              "    </tr>\n",
              "    <tr>\n",
              "      <th>11</th>\n",
              "      <td>16</td>\n",
              "      <td>{'nice features touch response': 1}</td>\n",
              "    </tr>\n",
              "    <tr>\n",
              "      <th>12</th>\n",
              "      <td>17</td>\n",
              "      <td>{'toy phone': 1, 'light weight': 1, '3inch dro...</td>\n",
              "    </tr>\n",
              "    <tr>\n",
              "      <th>13</th>\n",
              "      <td>18</td>\n",
              "      <td>{'good materials a1': 1}</td>\n",
              "    </tr>\n",
              "    <tr>\n",
              "      <th>14</th>\n",
              "      <td>19</td>\n",
              "      <td>{'basic phone': 1, 'phones price marketnot': 1...</td>\n",
              "    </tr>\n",
              "    <tr>\n",
              "      <th>15</th>\n",
              "      <td>22</td>\n",
              "      <td>{'happy phone': 1}</td>\n",
              "    </tr>\n",
              "    <tr>\n",
              "      <th>16</th>\n",
              "      <td>24</td>\n",
              "      <td>{'normal use': 1, 'factory warranty good': 1, ...</td>\n",
              "    </tr>\n",
              "    <tr>\n",
              "      <th>17</th>\n",
              "      <td>25</td>\n",
              "      <td>{'beautiful telephone': 1}</td>\n",
              "    </tr>\n",
              "    <tr>\n",
              "      <th>18</th>\n",
              "      <td>26</td>\n",
              "      <td>{'nice phone': 1, 'asus loads': 1, 'garbage wa...</td>\n",
              "    </tr>\n",
              "    <tr>\n",
              "      <th>19</th>\n",
              "      <td>27</td>\n",
              "      <td>{'great phone money': 1}</td>\n",
              "    </tr>\n",
              "    <tr>\n",
              "      <th>20</th>\n",
              "      <td>28</td>\n",
              "      <td>{'nextbit values participation feedback owners...</td>\n",
              "    </tr>\n",
              "    <tr>\n",
              "      <th>21</th>\n",
              "      <td>29</td>\n",
              "      <td>{'fantastic phone': 1, 'current price': 1, 'si...</td>\n",
              "    </tr>\n",
              "    <tr>\n",
              "      <th>22</th>\n",
              "      <td>30</td>\n",
              "      <td>{'goodgreat look': 1, 'regular designs': 1, 'a...</td>\n",
              "    </tr>\n",
              "  </tbody>\n",
              "</table>\n",
              "</div>"
            ],
            "text/plain": [
              "    products                                 feature with count\n",
              "0          1                                  {'good phone': 1}\n",
              "1          2                                 {'great phone': 1}\n",
              "2          3  {'battery life': 1, 'black press top button': ...\n",
              "3          5  {'prosbeautiful screen': 1, 'good pictures key...\n",
              "4          6                                 {'happy phone': 1}\n",
              "5          7  {'iphone 4s tends': 1, 'power good storage spa...\n",
              "6          8  {'great screen resolution storage': 1, 'low ne...\n",
              "7         11                  {'great phone': 1, 'easy use': 1}\n",
              "8         12  {'alternative smart phone data plan': 1, 'phon...\n",
              "9         13                               {'talkthe phone': 1}\n",
              "10        14  {'overall quality phone': 1, 'good quality cam...\n",
              "11        16                {'nice features touch response': 1}\n",
              "12        17  {'toy phone': 1, 'light weight': 1, '3inch dro...\n",
              "13        18                           {'good materials a1': 1}\n",
              "14        19  {'basic phone': 1, 'phones price marketnot': 1...\n",
              "15        22                                 {'happy phone': 1}\n",
              "16        24  {'normal use': 1, 'factory warranty good': 1, ...\n",
              "17        25                         {'beautiful telephone': 1}\n",
              "18        26  {'nice phone': 1, 'asus loads': 1, 'garbage wa...\n",
              "19        27                           {'great phone money': 1}\n",
              "20        28  {'nextbit values participation feedback owners...\n",
              "21        29  {'fantastic phone': 1, 'current price': 1, 'si...\n",
              "22        30  {'goodgreat look': 1, 'regular designs': 1, 'a..."
            ]
          },
          "metadata": {
            "tags": []
          },
          "execution_count": 201
        }
      ]
    },
    {
      "cell_type": "code",
      "metadata": {
        "id": "a9Os02JoT76h"
      },
      "source": [
        "# "
      ],
      "execution_count": null,
      "outputs": []
    },
    {
      "cell_type": "code",
      "metadata": {
        "id": "6-RyPxmA7vbi",
        "colab": {
          "base_uri": "https://localhost:8080/",
          "height": 373
        },
        "outputId": "3ee02cc6-30f2-4fea-9e83-90c0efe84722"
      },
      "source": [
        "negative_features_counts = {}\n",
        "for prod,feature_list, in zip(negative_products_dataset['products'],negative_products_dataset['texblob_features_extraction']):\n",
        "    for feature in feature_list:\n",
        "        if prod in negative_features_counts:\n",
        "            if feature in negative_features_counts[prod]:\n",
        "                negative_features_counts[prod][feature] += 1\n",
        "            else:\n",
        "                negative_features_counts[prod][feature] = 1 \n",
        "        else:\n",
        "            negative_features_counts[prod]={}\n",
        "            negative_features_counts[prod][feature] = 1 \n",
        "            \n",
        "dist_products =[]\n",
        "dist_feature_count= []\n",
        "for key, value in negative_features_counts.items() :\n",
        "    dist_products.append(key)\n",
        "    dist_feature_count.append(value)\n",
        "    \n",
        "nfd = pd.DataFrame()\n",
        "nfd['products'] = dist_products\n",
        "nfd['feature with count'] = dist_feature_count\n",
        "nfd"
      ],
      "execution_count": null,
      "outputs": [
        {
          "output_type": "execute_result",
          "data": {
            "text/html": [
              "<div>\n",
              "<style scoped>\n",
              "    .dataframe tbody tr th:only-of-type {\n",
              "        vertical-align: middle;\n",
              "    }\n",
              "\n",
              "    .dataframe tbody tr th {\n",
              "        vertical-align: top;\n",
              "    }\n",
              "\n",
              "    .dataframe thead th {\n",
              "        text-align: right;\n",
              "    }\n",
              "</style>\n",
              "<table border=\"1\" class=\"dataframe\">\n",
              "  <thead>\n",
              "    <tr style=\"text-align: right;\">\n",
              "      <th></th>\n",
              "      <th>products</th>\n",
              "      <th>feature with count</th>\n",
              "    </tr>\n",
              "  </thead>\n",
              "  <tbody>\n",
              "    <tr>\n",
              "      <th>0</th>\n",
              "      <td>6</td>\n",
              "      <td>{'phone speaker': 1}</td>\n",
              "    </tr>\n",
              "    <tr>\n",
              "      <th>1</th>\n",
              "      <td>10</td>\n",
              "      <td>{'bad charger port': 1}</td>\n",
              "    </tr>\n",
              "    <tr>\n",
              "      <th>2</th>\n",
              "      <td>12</td>\n",
              "      <td>{'main navigation buttonmouse': 1, 'small nt': 1}</td>\n",
              "    </tr>\n",
              "    <tr>\n",
              "      <th>3</th>\n",
              "      <td>13</td>\n",
              "      <td>{'thing nt': 1, 'camera horrible': 1, 'picture...</td>\n",
              "    </tr>\n",
              "    <tr>\n",
              "      <th>4</th>\n",
              "      <td>14</td>\n",
              "      <td>{'real phone': 1}</td>\n",
              "    </tr>\n",
              "    <tr>\n",
              "      <th>5</th>\n",
              "      <td>20</td>\n",
              "      <td>{'heavy screen': 1, 'reception lousy': 1}</td>\n",
              "    </tr>\n",
              "    <tr>\n",
              "      <th>6</th>\n",
              "      <td>21</td>\n",
              "      <td>{'husband nt': 1, 'slow 3g': 1}</td>\n",
              "    </tr>\n",
              "    <tr>\n",
              "      <th>7</th>\n",
              "      <td>23</td>\n",
              "      <td>{'phone others': 1}</td>\n",
              "    </tr>\n",
              "    <tr>\n",
              "      <th>8</th>\n",
              "      <td>26</td>\n",
              "      <td>{'crap device': 1, 'seller npg store': 1, 'shi...</td>\n",
              "    </tr>\n",
              "    <tr>\n",
              "      <th>9</th>\n",
              "      <td>29</td>\n",
              "      <td>{'thing phone': 1}</td>\n",
              "    </tr>\n",
              "    <tr>\n",
              "      <th>10</th>\n",
              "      <td>30</td>\n",
              "      <td>{'shaky unstable images': 1}</td>\n",
              "    </tr>\n",
              "  </tbody>\n",
              "</table>\n",
              "</div>"
            ],
            "text/plain": [
              "    products                                 feature with count\n",
              "0          6                               {'phone speaker': 1}\n",
              "1         10                            {'bad charger port': 1}\n",
              "2         12  {'main navigation buttonmouse': 1, 'small nt': 1}\n",
              "3         13  {'thing nt': 1, 'camera horrible': 1, 'picture...\n",
              "4         14                                  {'real phone': 1}\n",
              "5         20          {'heavy screen': 1, 'reception lousy': 1}\n",
              "6         21                    {'husband nt': 1, 'slow 3g': 1}\n",
              "7         23                                {'phone others': 1}\n",
              "8         26  {'crap device': 1, 'seller npg store': 1, 'shi...\n",
              "9         29                                 {'thing phone': 1}\n",
              "10        30                       {'shaky unstable images': 1}"
            ]
          },
          "metadata": {
            "tags": []
          },
          "execution_count": 203
        }
      ]
    },
    {
      "cell_type": "markdown",
      "metadata": {
        "id": "bmeJLuKJ703u"
      },
      "source": [
        "###for negative features =nfd\n",
        "###for positive features=ppfd"
      ]
    },
    {
      "cell_type": "markdown",
      "metadata": {
        "id": "hrXDJlExSt9H"
      },
      "source": [
        "\n",
        "ALL for our products\n"
      ]
    },
    {
      "cell_type": "markdown",
      "metadata": {
        "id": "POqPVOl0SuIs"
      },
      "source": [
        ""
      ]
    },
    {
      "cell_type": "code",
      "metadata": {
        "id": "wd-SXNnu8Cdu"
      },
      "source": [
        "import spacy"
      ],
      "execution_count": null,
      "outputs": []
    },
    {
      "cell_type": "code",
      "metadata": {
        "id": "iQL2e1GpCgDa"
      },
      "source": [
        "nlp = spacy.load(\"en_core_web_sm\")"
      ],
      "execution_count": null,
      "outputs": []
    },
    {
      "cell_type": "code",
      "metadata": {
        "id": "pr023xtBF-tQ",
        "colab": {
          "base_uri": "https://localhost:8080/",
          "height": 161
        },
        "outputId": "e3ac6849-4757-4f43-d149-02a96b9fc02d"
      },
      "source": [
        "doc=nlp(df.iloc[0]['description'])"
      ],
      "execution_count": null,
      "outputs": [
        {
          "output_type": "error",
          "ename": "NameError",
          "evalue": "ignored",
          "traceback": [
            "\u001b[0;31m---------------------------------------------------------------------------\u001b[0m",
            "\u001b[0;31mNameError\u001b[0m                                 Traceback (most recent call last)",
            "\u001b[0;32m<ipython-input-4-9bd9bf9c3106>\u001b[0m in \u001b[0;36m<module>\u001b[0;34m()\u001b[0m\n\u001b[0;32m----> 1\u001b[0;31m \u001b[0mdoc\u001b[0m\u001b[0;34m=\u001b[0m\u001b[0mnlp\u001b[0m\u001b[0;34m(\u001b[0m\u001b[0mdf\u001b[0m\u001b[0;34m.\u001b[0m\u001b[0miloc\u001b[0m\u001b[0;34m[\u001b[0m\u001b[0;36m0\u001b[0m\u001b[0;34m]\u001b[0m\u001b[0;34m[\u001b[0m\u001b[0;34m'description'\u001b[0m\u001b[0;34m]\u001b[0m\u001b[0;34m)\u001b[0m\u001b[0;34m\u001b[0m\u001b[0;34m\u001b[0m\u001b[0m\n\u001b[0m",
            "\u001b[0;31mNameError\u001b[0m: name 'df' is not defined"
          ]
        }
      ]
    },
    {
      "cell_type": "code",
      "metadata": {
        "id": "5zIsY_EaGWel"
      },
      "source": [
        ""
      ],
      "execution_count": null,
      "outputs": []
    }
  ]
}